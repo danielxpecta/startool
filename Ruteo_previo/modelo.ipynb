{
 "cells": [
  {
   "cell_type": "code",
   "execution_count": null,
   "metadata": {
    "vscode": {
     "languageId": "plaintext"
    }
   },
   "outputs": [],
   "source": [
    "from ortools.constraint_solver import routing_enums_pb2\n",
    "from ortools.constraint_solver import pywrapcp\n",
    "import pandas as pd\n",
    "import plotly.express as px\n",
    "from datetime import date, datetime, time, timedelta\n",
    "import numpy as np\n",
    "token = 'pk.eyJ1IjoidmFsZW50aW5hbGF2ZXJkZSIsImEiOiJja3lkODV6dnAwMzNtMnVxaGx1ZjNobjUzIn0.q98o5a_hvqz2O4RI3DNmTw'# MAPBOX"
   ]
  },
  {
   "cell_type": "markdown",
   "metadata": {},
   "source": [
    "# Lectura de datos"
   ]
  },
  {
   "cell_type": "code",
   "execution_count": null,
   "metadata": {
    "vscode": {
     "languageId": "plaintext"
    }
   },
   "outputs": [],
   "source": [
    "data= {}\n",
    "#Se lee la matriz de distancia y se orgamiza de forma que la primera fila y columna sea la casa del rep\n",
    "matriz_distancia=pd.read_csv('matriz_distancia_chris.csv').set_index('id')\n",
    "matriz_distancia=matriz_distancia.loc[matriz_distancia.index[::-1],matriz_distancia.columns[::-1]]\n",
    "a=matriz_distancia.isna().sum(axis=0)\n",
    "zz=a[a!=0].index\n",
    "matriz_distancia=matriz_distancia.loc[~matriz_distancia.index.isin(zz.astype(int)),set(matriz_distancia.columns)-set(zz)]\n",
    "\n",
    "\n",
    "matriz_tiempo=pd.read_csv('matriz_tiempo_chris.csv').set_index('id')\n",
    "matriz_tiempo=matriz_tiempo.loc[matriz_tiempo.index[::-1],matriz_tiempo.columns[::-1]]\n",
    "\n",
    "b=matriz_tiempo.isna().sum(axis=0)\n",
    "xx=a[a!=0].index\n",
    "\n",
    "#A la matriz de tiempo se le añade 7 minutos que se tardaría en cada cuenta\n",
    "matriz_tiempo=matriz_tiempo.loc[~matriz_tiempo.index.isin(zz.astype(int)),set(matriz_tiempo.columns)-set(zz)]\n",
    "matriz_tiempo=matriz_tiempo+7\n",
    "\n",
    "#Se leen las probabilidades de las cuentas\n",
    "clientes=pd.read_excel('accountsProbabilitiesChris.xlsx')\n",
    "clientes['id_real']=clientes['id'].astype(int).astype(str)+'_'+clientes['Practice Name']\n",
    "clientes['Buy Probability']=clientes['Buy Probability'].replace('%','',regex=True).astype(float)/100\n",
    "clientes['id']=clientes['id'].astype(int)\n",
    "clientes.set_index('id',inplace=True)\n",
    "clientes=clientes[clientes['Buy Probability']>=0]\n",
    "clientes=clientes.loc[clientes.index.isin(matriz_distancia.index)]\n",
    "\n",
    "matriz_tiempo=matriz_tiempo.loc[clientes.index,clientes.index.astype(str)]\n",
    "matriz_distancia=matriz_distancia.loc[clientes.index,clientes.index.astype(str)]\n",
    "\n",
    "clientes['prospect']=pd.isna(clientes['Last Buy Date']).astype(int)\n",
    "\n",
    "#La matriz de costo va a ser igual a la matriz distancia * (1 - probabilidad)\n",
    "for i in matriz_distancia.index:\n",
    "    try:\n",
    "        matriz_distancia[str(i)]=matriz_distancia[str(i)]*(1-clientes.loc[i,'Buy Probability'])\n",
    "    except:\n",
    "        pass\n",
    "\n",
    "data['time_matrix'] = matriz_tiempo.astype(int).values\n",
    "data['distancia'] =  matriz_distancia.astype(int).values\n",
    "\n",
    "\n",
    "\n",
    "clientes=clientes.loc[matriz_tiempo.index]\n",
    "clientes=clientes.reset_index()\n",
    "\n",
    "#El número de vehiculos es igual al número de dias totales para recorrer las cuentas \n",
    "data['num_vehicles'] = 14\n",
    "data['depot'] = 0"
   ]
  },
  {
   "cell_type": "markdown",
   "metadata": {},
   "source": [
    "# Creación del modelo"
   ]
  },
  {
   "cell_type": "code",
   "execution_count": null,
   "metadata": {
    "vscode": {
     "languageId": "plaintext"
    }
   },
   "outputs": [],
   "source": [
    "manager = pywrapcp.RoutingIndexManager(len(data['distancia']),data['num_vehicles'],data['depot'])\n",
    "routing = pywrapcp.RoutingModel(manager)\n",
    "# Se asigna como pesos del grafo la matriz de distancia\n",
    "def weight_callback(from_index, to_index):\n",
    "    \"\"\"Returns the weight between the two nodes.\"\"\"\n",
    "    # Convert from routing variable Index to distance matrix NodeIndex.\n",
    "    from_node = manager.IndexToNode(from_index)\n",
    "    to_node = manager.IndexToNode(to_index)\n",
    "    return data['distancia'][from_node][to_node]\n",
    "\n",
    "\n",
    "\n",
    "transit_callback_index = routing.RegisterTransitCallback(weight_callback)\n",
    "routing.SetArcCostEvaluatorOfAllVehicles(transit_callback_index)\n",
    "\n",
    "# Se añade la matriz de tiempo al modelo\n",
    "def time_callback(from_index, to_index):\n",
    "    \"\"\"Returns the time between the two nodes.\"\"\"\n",
    "    # Convert from routing variable Index to distance matrix NodeIndex.\n",
    "    from_node = manager.IndexToNode(from_index)\n",
    "    to_node = manager.IndexToNode(to_index)\n",
    "    return data['time_matrix'][from_node][to_node] \n",
    "\n",
    "transit_callback_index_0 = routing.RegisterTransitCallback(time_callback)\n",
    "\n",
    "#Se añade la restricción de tiempo al modelo para que la ruta no pase los 420 minutos\n",
    "dim = 'Tiempo'\n",
    "routing.AddDimension(transit_callback_index_0,\n",
    "        0,  # no slack\n",
    "        420,  # vehicle maximum travel time\n",
    "        True,  # start cumul to zero\n",
    "        dim)\n",
    "time_dimension = routing.GetDimensionOrDie(dim)\n",
    "time_dimension.SetGlobalSpanCostCoefficient(100)\n",
    "\n",
    "search_parameters = pywrapcp.DefaultRoutingSearchParameters()\n",
    "search_parameters.first_solution_strategy = (routing_enums_pb2.FirstSolutionStrategy.PATH_CHEAPEST_ARC)\n",
    "\n",
    "#Se resuelve la ruta\n",
    "solution = routing.SolveWithParameters(search_parameters)\n"
   ]
  },
  {
   "cell_type": "markdown",
   "metadata": {},
   "source": [
    "# Impresión de solución"
   ]
  },
  {
   "cell_type": "code",
   "execution_count": null,
   "metadata": {
    "vscode": {
     "languageId": "plaintext"
    }
   },
   "outputs": [],
   "source": [
    "def print_solution(data, manager, routing, solution):\n",
    "    \"\"\"Prints solution on console.\"\"\"\n",
    "    #print(f'Objective: {solution.ObjectiveValue()}')\n",
    "    max_route_distance = 0\n",
    "    max_=0\n",
    "    df=pd.DataFrame()\n",
    "\n",
    "    #Los vehiculos en este caso son tomados como los dias necesarios para recorrer todas las cuentas\n",
    "    for vehicle_id in range(data['num_vehicles']):\n",
    "        index = routing.Start(vehicle_id)\n",
    "        plan_output = 'Route for day {}:\\n'.format(vehicle_id+1)\n",
    "        route_distance = 0\n",
    "        clientes_=0\n",
    "        probabilidad=0\n",
    "        #Se crea dataframe con la información de rutas de cada dia\n",
    "        data=pd.DataFrame(columns=['Day','Id','Practice Name','Buy Probability','City','Last Buy Date','Last Visit Date','LV Outcome','accountstatus','accountrating'])\n",
    "        while not routing.IsEnd(index):\n",
    "            clientes_+=1\n",
    "            plan_output += ' {} -> '.format(clientes.loc[manager.IndexToNode(index),'Practice Name'])\n",
    "            probabilidad += clientes.loc[manager.IndexToNode(index),'Buy Probability']\n",
    "            \n",
    "            df2 = {\n",
    "                'Day':vehicle_id,\n",
    "                'Id':clientes.loc[manager.IndexToNode(index),'id'],\n",
    "                'Practice Name': clientes.loc[manager.IndexToNode(index),'Practice Name'],\n",
    "                'Buy Probability': clientes.loc[manager.IndexToNode(index),'Buy Probability'],\n",
    "                'City': clientes.loc[manager.IndexToNode(index),'city'],\n",
    "                'Last Buy Date':clientes.loc[manager.IndexToNode(index),'Last Buy Date'],\n",
    "                'Last Visit Date':clientes.loc[manager.IndexToNode(index),'Last Visit Date'],\n",
    "                'LV Outcome':clientes.loc[manager.IndexToNode(index),'LV Outcome'],\n",
    "                'accountstatus':clientes.loc[manager.IndexToNode(index),'accountstatus'],\n",
    "                'accountrating':clientes.loc[manager.IndexToNode(index),'accountrating'],\n",
    "                }\n",
    "            data = data.append(df2, ignore_index = True)\n",
    "            previous_index = index\n",
    "            index = solution.Value(routing.NextVar(index))\n",
    "            route_distance += routing.GetArcCostForVehicle(previous_index, index, vehicle_id)\n",
    "        plan_output += '{}\\n'.format(clientes.loc[manager.IndexToNode(index),'Practice Name'])\n",
    "        plan_output += 'Distance of the route: {} m'.format(route_distance)\n",
    "        max_route_distance = max(route_distance, max_route_distance)\n",
    "        df=df.append(data,ignore_index=True)\n",
    "    return df"
   ]
  },
  {
   "cell_type": "code",
   "execution_count": null,
   "metadata": {
    "vscode": {
     "languageId": "plaintext"
    }
   },
   "outputs": [],
   "source": [
    "resultado=print_solution(data, manager, routing, solution)"
   ]
  }
 ],
 "metadata": {
  "language_info": {
   "name": "python"
  },
  "orig_nbformat": 4
 },
 "nbformat": 4,
 "nbformat_minor": 2
}
